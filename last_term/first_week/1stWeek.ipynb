{
  "nbformat": 4,
  "nbformat_minor": 0,
  "metadata": {
    "colab": {
      "provenance": [],
      "authorship_tag": "ABX9TyPRmLHWpIW0oTgw8Dcm3M+U",
      "include_colab_link": true
    },
    "kernelspec": {
      "name": "python3",
      "display_name": "Python 3"
    },
    "language_info": {
      "name": "python"
    }
  },
  "cells": [
    {
      "cell_type": "markdown",
      "metadata": {
        "id": "view-in-github",
        "colab_type": "text"
      },
      "source": [
        "<a href=\"https://colab.research.google.com/github/Nusk-Rbb/ImageSubject/blob/main/1stWeek.ipynb\" target=\"_parent\"><img src=\"https://colab.research.google.com/assets/colab-badge.svg\" alt=\"Open In Colab\"/></a>"
      ]
    },
    {
      "cell_type": "code",
      "execution_count": null,
      "metadata": {
        "id": "L5Ur5WWGo3lP"
      },
      "outputs": [],
      "source": [
        "import cv2\n",
        "import matplotlib.pyplot as plt\n",
        "import numpy as np\n",
        "from google.colab.patches import cv2_imshow\n",
        "from google.colab import files\n",
        "uploaded_file = files.upload()\n",
        "\n",
        "# show uploaded file name\n",
        "uploaded_file_name = next(iter(uploaded_file))\n",
        "print(uploaded_file_name)\n",
        "\n",
        "# show image file\n",
        "orig = cv2.imread(uploaded_file_name)\n",
        "img = cv2.cvtColor(orig, cv2.COLOR_BGR2RGB)\n",
        "from matplotlib import pyplot as plt\n",
        "plt.imshow(img)"
      ]
    },
    {
      "cell_type": "code",
      "source": [
        "# show hist gram\n",
        "plt.hist(img.flatten(), 256, [0, 256])"
      ],
      "metadata": {
        "id": "7IP-_lznsfNi"
      },
      "execution_count": null,
      "outputs": []
    },
    {
      "cell_type": "code",
      "source": [
        "img = cv2.imread(uploaded_file_name)\n",
        "#カラーリスト\n",
        "colorList = [\"blue\",\"green\",\"red\"]\n",
        "for i,j in enumerate(colorList):\n",
        "    # ヒストグラム\n",
        "    hist = cv2.calcHist(images   = [img],    # 画像データを指定\n",
        "                        channels = [i],      # ヒストグラムを計算する画像のチャンネルのインデックス\n",
        "                        mask     = None,     # マスク画像｜全画素のヒストグラムを計算する場合 “None” を指定\n",
        "                        histSize = [256],    # ビン数\n",
        "                        ranges   = [1,256]   # ヒストグラムの範囲\n",
        "                       )\n",
        "    # 可視化\n",
        "    plt.plot(hist, color=j)"
      ],
      "metadata": {
        "id": "oVP0Nybqs-Cy"
      },
      "execution_count": null,
      "outputs": []
    },
    {
      "cell_type": "code",
      "source": [
        "# 変換前の画素値x\n",
        "x = np.arange(256)\n",
        "# 200が255に変換されるように傾きを求める\n",
        "a = 255 / (200 - 0)\n",
        "# xを線形変換する\n",
        "# 画素値の最大値は255である\n",
        "y = np.clip(a * (x - 0) + 0, 0, 255)\n",
        "plt.plot(x, y)\n",
        "plt.xlabel(\"before pixel value\")\n",
        "plt.ylabel(\"after pixel value\")"
      ],
      "metadata": {
        "id": "Q0DcxowRtAmK"
      },
      "execution_count": null,
      "outputs": []
    },
    {
      "cell_type": "code",
      "source": [
        "# show gray scale\n",
        "img = cv2.imread(uploaded_file_name ,0)\n",
        "img_lut = cv2.LUT(img, y)\n",
        "plt.imshow(img_lut, 'gray')"
      ],
      "metadata": {
        "id": "p78z6oe_t4Bp"
      },
      "execution_count": null,
      "outputs": []
    },
    {
      "cell_type": "code",
      "source": [
        "# show hist of gray scale\n",
        "plt.hist(img_lut.flatten(), 256, [0,256]);"
      ],
      "metadata": {
        "id": "5gNBfk36uNKq"
      },
      "execution_count": null,
      "outputs": []
    },
    {
      "cell_type": "code",
      "source": [
        "img = cv2.imread(uploaded_file_name, 0)\n",
        "# ヒストグラム平坦化\n",
        "dst1 = cv2.equalizeHist(img)\n",
        "\n",
        "# 適応的ヒストグラム平坦化\n",
        "clahe = cv2.createCLAHE(clipLimit=2.0, tileGridSize=(8,8))\n",
        "dst2 = clahe.apply(img)\n",
        "#描画\n",
        "plt.figure(figsize=(16, 6))\n",
        "plt.subplot(2, 3, 1)\n",
        "plt.title(\"Origin Image\")\n",
        "plt.hist(img.flatten(),256,[1,256], color = 'r')\n",
        "plt.subplot(2, 3, 2)\n",
        "plt.title(\"Histgram Flatting\")\n",
        "plt.hist(dst1.flatten(),256,[1,256], color = 'r')\n",
        "plt.subplot(2, 3, 3)\n",
        "plt.title(\"Adaptive Histogram Flattening\")\n",
        "plt.hist(dst2.flatten(),256,[5,256], color = 'r')\n",
        "plt.subplot(2, 3, 4)\n",
        "plt.imshow(img, 'gray')\n",
        "plt.xticks([])\n",
        "plt.yticks([])\n",
        "plt.subplot(2, 3, 5)\n",
        "plt.imshow(dst1, 'gray')\n",
        "plt.xticks([])\n",
        "plt.yticks([])\n",
        "plt.subplot(2, 3, 6)\n",
        "plt.imshow(dst2, 'gray')\n",
        "plt.xticks([])\n",
        "plt.yticks([])"
      ],
      "metadata": {
        "id": "zUETsSesuUZr"
      },
      "execution_count": null,
      "outputs": []
    }
  ]
}