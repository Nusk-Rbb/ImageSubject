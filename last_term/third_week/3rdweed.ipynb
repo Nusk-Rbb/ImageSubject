{
 "cells": [
  {
   "cell_type": "code",
   "execution_count": null,
   "metadata": {},
   "outputs": [],
   "source": [
    "import cv2\n",
    "import mathplotlib.pyplot as plt\n",
    "import numpy as np\n",
    "\n",
    "from google.colab.patches import cv2_imshow\n",
    "from google.colab. import files"
   ]
  }
 ],
 "metadata": {
  "language_info": {
   "name": "python"
  }
 },
 "nbformat": 4,
 "nbformat_minor": 2
}
