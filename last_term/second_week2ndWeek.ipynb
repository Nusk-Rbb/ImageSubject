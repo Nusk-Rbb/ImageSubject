{
  "nbformat": 4,
  "nbformat_minor": 0,
  "metadata": {
    "colab": {
      "provenance": [],
      "authorship_tag": "ABX9TyPQ3/DsMXvJ4TZsbN0X2KzY"
    },
    "kernelspec": {
      "name": "python3",
      "display_name": "Python 3"
    },
    "language_info": {
      "name": "python"
    }
  },
  "cells": [
    {
      "cell_type": "code",
      "execution_count": null,
      "metadata": {
        "id": "oDTJEBgpu4n9"
      },
      "outputs": [],
      "source": [
        "import cv2\n",
        "import matplotlib.pyplot as plt\n",
        "import numpy as np\n",
        "from google.colab.patches import cv2_imshow\n",
        "from google.colab import files\n",
        "uploaded_file = files.upload()\n",
        "\n",
        "# show uploaded file name\n",
        "uploaded_file_name = next(iter(uploaded_file))\n",
        "print(uploaded_file_name)\n",
        "\n",
        "# show image file\n",
        "orig = cv2.imread(uploaded_file_name)\n",
        "img = cv2.cvtColor(orig, cv2.COLOR_BGR2GRAY)\n",
        "plt.imshow(img)"
      ]
    },
    {
      "cell_type": "code",
      "source": [
        "plt.imshow(img, cmap = \"gray\")"
      ],
      "metadata": {
        "id": "GXbhYJ-dw8J7"
      },
      "execution_count": null,
      "outputs": []
    },
    {
      "cell_type": "code",
      "source": [
        "img = cv2.imread(uploaded_file_name, 0)\n",
        "# Spatial filtering\n",
        "# 方法3(OpenCVで実装)\n",
        "dst = cv2.blur(img, ksize=(3, 3))\n",
        "plt.imshow(dst, cmap = \"gray\")"
      ],
      "metadata": {
        "id": "9nJqcfJm1Rv1"
      },
      "execution_count": null,
      "outputs": []
    },
    {
      "cell_type": "code",
      "source": [
        "img = cv2.imread(uploaded_file_name, 0)\n",
        "# Spatial filtering\n",
        "# 方法2\n",
        "dst = cv2.medianBlur(img, ksize=13)\n",
        "# output\n",
        "# 結果を出力\n",
        "plt.imshow(dst, cmap = \"gray\")"
      ],
      "metadata": {
        "id": "4CIGrH5d1tSf"
      },
      "execution_count": null,
      "outputs": []
    },
    {
      "cell_type": "code",
      "source": [
        "# カーネル（水平、垂直方向の輪郭検出用）\n",
        "kernel_x = np.array([[0, -1, 0],\n",
        "                     [0, 0, 0],\n",
        "                     [0, 1, 0]])\n",
        "kernel_y = np.array([[0, 0, 0],\n",
        "                    [-1, 0, 1],\n",
        "                    [0, 0, 0]])\n",
        "# 方法2\n",
        "gray_x = cv2.filter2D(img, cv2.CV_64F, kernel_x)\n",
        "gray_y = cv2.filter2D(img, cv2.CV_64F, kernel_y)\n",
        "dst = np.sqrt(gray_x ** 2 + gray_y ** 2)\n",
        "# 結果を出力\n",
        "plt.imshow(dst, cmap = \"gray\")\n"
      ],
      "metadata": {
        "id": "EiyDXEcH1oAQ"
      },
      "execution_count": null,
      "outputs": []
    },
    {
      "cell_type": "code",
      "source": [
        "# カーネル（水平、垂直方向の輪郭検出用）\n",
        "kernel_x = np.array([[-1, 0, 1],\n",
        "                     [-1, 0, 1],\n",
        "                     [-1, 0, 1]])\n",
        "kernel_y = np.array([[-1, -1, -1],\n",
        "                     [0, 0, 0],\n",
        "                     [1, 1, 1]])\n",
        "# 方法2\n",
        "gray_x = cv2.filter2D(img, cv2.CV_64F, kernel_x)\n",
        "gray_y = cv2.filter2D(img, cv2.CV_64F, kernel_y)\n",
        "dst = np.sqrt(gray_x ** 2 + gray_y ** 2)\n",
        "# 結果を出力\n",
        "plt.imshow(dst, cmap = \"gray\")"
      ],
      "metadata": {
        "id": "SpMiebkJ1_C5"
      },
      "execution_count": null,
      "outputs": []
    },
    {
      "cell_type": "code",
      "source": [
        "# upload file\n",
        "uploaded_file2 = files.upload()\n",
        "uploaded_file_name2 = next(iter(uploaded_file2))\n",
        "print(uploaded_file_name2)\n",
        "\n",
        "orig2 = cv2.imread(uploaded_file_name2)\n",
        "#グレースケール変換\n",
        "img2 = cv2.cvtColor(orig2, cv2.COLOR_RGB2GRAY)\n",
        "from matplotlib import pyplot as plt\n",
        "plt.imshow(img2, cmap = \"gray\")"
      ],
      "metadata": {
        "id": "qyojglAy2OIR"
      },
      "execution_count": null,
      "outputs": []
    },
    {
      "cell_type": "code",
      "source": [
        "# キカガクのロゴをチャコ氏の画像サイズに合わせる\n",
        "# kikagaku_icon.shape でサイズを取得できる→（302, 403）でした\n",
        "img3 =cv2.resize(orig, (421, 509))\n",
        "img4 =cv2.resize(orig2, (421, 509))\n",
        "# 画像を合成（引数の詳細は公式ドキュメントを参考に変更してください）\n",
        "blended = cv2.addWeighted(src1=img3, alpha=0.7, src2=img4, beta=0.3, gamma=0)\n",
        "# 画像の確認\n",
        "plt.imshow(cv2.cvtColor(blended, cv2.COLOR_BGR2RGB))\n",
        "plt.show()"
      ],
      "metadata": {
        "id": "lCXoKD8I2az_"
      },
      "execution_count": null,
      "outputs": []
    },
    {
      "cell_type": "code",
      "source": [
        "# 前景画像を読み込む。\n",
        "fg_img = cv2.imread(uploaded_file_name2)\n",
        "# 背景画像を読み込む。\n",
        "bg_img = cv2.imread(uploaded_file_name)\n",
        "# HSV に変換する。\n",
        "hsv = cv2.cvtColor(fg_img, cv2.COLOR_BGR2HSV)\n",
        "# 2値化する。\n",
        "bin_img = cv2.inRange(hsv, (0, 10, 0), (255, 255, 255))\n",
        "plt.imshow(bin_img, cmap = \"gray\")\n",
        "# 輪郭抽出する。\n",
        "contours, _ = cv2.findContours(bin_img, cv2.RETR_EXTERNAL, cv2.CHAIN_APPROX_SIMPLE)\n",
        "# 面積が最大の輪郭を取得する\n",
        "contour = max(contours, key=lambda x: cv2.contourArea(x))"
      ],
      "metadata": {
        "id": "QNuV0OcW2gfy"
      },
      "execution_count": null,
      "outputs": []
    },
    {
      "cell_type": "code",
      "source": [
        "# マスク画像を作成する。\n",
        "mask = np.zeros_like(bin_img)\n",
        "cv2.drawContours(mask, [contour], -1, color=255, thickness=-1)\n",
        "plt.imshow(mask, cmap = \"gray\")"
      ],
      "metadata": {
        "id": "roLkfDqf2kok"
      },
      "execution_count": null,
      "outputs": []
    },
    {
      "cell_type": "code",
      "source": [
        "x, y = 10, 10  # 貼り付け位置\n",
        "# 幅、高さは前景画像と背景画像の共通部分をとる\n",
        "w = min(fg_img.shape[1], bg_img.shape[1] - x)\n",
        "h = min(fg_img.shape[0], bg_img.shape[0] - y)\n",
        "# 合成する領域\n",
        "fg_roi = fg_img[:h, :w]  # 前傾画像のうち、合成する領域\n",
        "bg_roi = bg_img[y : y + h, x : x + w]  # 背景画像のうち、合成する領域\n",
        "# 合成する。\n",
        "bg_roi[:] = np.where(mask[:h, :w, np.newaxis] == 0, bg_roi, fg_roi)\n",
        "plt.imshow(bg_roi)"
      ],
      "metadata": {
        "id": "4XfCa0yH2qqZ"
      },
      "execution_count": null,
      "outputs": []
    }
  ]
}